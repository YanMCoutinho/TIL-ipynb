{
 "cells": [
  {
   "cell_type": "markdown",
   "metadata": {
    "id": "V2N9h-9_J-pH"
   },
   "source": [
    "<center>\n",
    "  <img src=\"https://www.inteli.edu.br/wp-content/uploads/2022/04/28103439/Logo-Container.png\" />\n",
    "</center>"
   ]
  },
  {
   "cell_type": "markdown",
   "id": "bab7f28d",
   "metadata": {},
   "source": [
    "## Carregamento dos Dados\n",
    "\n",
    "Nesta etapa, vamos importar bibliotecas necessárias e carregar os dados do arquivo CSV para análise."
   ]
  },
  {
   "cell_type": "markdown",
   "metadata": {
    "id": "17CxrA-0KNVC"
   },
   "source": [
    "# `[SI10-2024-P1]` - Prova Prática"
   ]
  },
  {
   "cell_type": "markdown",
   "metadata": {
    "id": "rUdo4gdLMUQO"
   },
   "source": [
    "Sistemas de Informação - Módulo 10 - Turma 4\n",
    "\n"
   ]
  },
  {
   "cell_type": "markdown",
   "metadata": {
    "id": "fOUrvQIkEuaj"
   },
   "source": [
    "**Nome**: *Escreva seu nome aqui.*"
   ]
  },
  {
   "cell_type": "markdown",
   "id": "ab31a2e7",
   "metadata": {},
   "source": [
    "## Informações Básicas do Dataset\n",
    "\n",
    "Aqui verificamos o tamanho do dataset, tipos de dados e valores ausentes."
   ]
  },
  {
   "cell_type": "markdown",
   "metadata": {
    "id": "0zjnr3Mq2Pqb"
   },
   "source": [
    "**ANTES DE PROSSEGUIR FAÇA UMA CÓPIA DESTE NOTEBOOK**"
   ]
  },
  {
   "cell_type": "markdown",
   "metadata": {
    "id": "yLqgpidSE1jb"
   },
   "source": [
    "----"
   ]
  },
  {
   "cell_type": "markdown",
   "metadata": {
    "id": "hAI4WVs6E2vi"
   },
   "source": [
    "## Contexto"
   ]
  },
  {
   "cell_type": "markdown",
   "id": "400fe15d",
   "metadata": {},
   "source": [
    "## Estatísticas Descritivas\n",
    "\n",
    "Vamos observar as estatísticas básicas das variáveis numéricas, como média, desvio padrão e quartis."
   ]
  },
  {
   "cell_type": "markdown",
   "metadata": {
    "id": "MxHRN2DpE_B6"
   },
   "source": [
    "Uma plataforma online, que atua na venda de produtos, deseja otimizar sua interface para melhorar a experiência do usuário e aumentar as taxas de conversão. Recentemente, a empresa implementou um redesign de sua página web, e os registros dessa mudança estão detalhados nos dados coletados desde então. As variáveis registradas diariamente incluem o número de visitantes únicos, sessões, taxa de rejeição, páginas por sessão, principais origens do tráfego, tipos de dispositivos usados, eventos ocorridos, taxa de conversão e o tempo médio de sessão.\n",
    "\n",
    "Com base nesses dados, a empresa considera realizar uma mudança similar para otimizar ainda mais sua plataforma. Antes de proceder, a equipe deseja empregar simulações de Monte Carlo para avaliar os possíveis impactos de um novo redesign na taxa de conversão, tempo médio de sessão e taxa de rejeição, utilizando análises estatísticas para prever tendências futuras e ajustar estratégias de maneira informada. Essa abordagem visa garantir que as decisões tomadas maximizem as taxas de conversões, fundamentais para o sucesso contínuo da plataforma."
   ]
  },
  {
   "cell_type": "markdown",
   "id": "5308dfe3",
   "metadata": {},
   "source": [
    "## Limpeza e Conversão de Dados\n",
    "\n",
    "Algumas colunas precisam ser convertidas para formatos numéricos, e possíveis problemas com dados ausentes ou inválidos serão tratados."
   ]
  },
  {
   "cell_type": "code",
   "execution_count": null,
   "metadata": {},
   "outputs": [],
   "source": [
    "!pip install networkx"
   ]
  },
  {
   "cell_type": "markdown",
   "metadata": {
    "id": "f_y3dG-wFAy1"
   },
   "source": [
    "## Importação do dataset e das bibliotecas"
   ]
  },
  {
   "cell_type": "code",
   "execution_count": null,
   "metadata": {
    "colab": {
     "base_uri": "https://localhost:8080/"
    },
    "id": "qenoiQovFDmA",
    "outputId": "28d90ae8-f7a8-46f9-c11d-182f0e79e80b"
   },
   "outputs": [],
   "source": [
    "# Importação do dataset\n",
    "# https://drive.google.com/file/d/1K_2ZDsrhheRDKoHN2ynfLCPGPFiS2CZr/view?usp=drive_link\n",
    "!gdown 1K_2ZDsrhheRDKoHN2ynfLCPGPFiS2CZr"
   ]
  },
  {
   "cell_type": "code",
   "execution_count": null,
   "metadata": {
    "colab": {
     "base_uri": "https://localhost:8080/"
    },
    "id": "EKRMnxrgFOFF",
    "outputId": "7e684ba0-2a4f-4e0c-e7e6-a9d960517986"
   },
   "outputs": [],
   "source": [
    "# Importação das bibliotecas\n",
    "import pandas as pd\n",
    "\n",
    "# Transforma o dataset em DataFrame Pandas\n",
    "df = pd.read_csv('ITL-SI10-2024-P1-dataset.csv')\n",
    "print(df.head())\n",
    "# Correção de tipos de dados\n",
    "df['Data'] = pd.to_datetime(df['Data'])\n",
    "numeric_cols = ['Visitantes Únicos', 'Sessões', 'Taxa de Rejeição (%)',\n",
    "                'Páginas por Sessão', 'Eventos', 'Taxa de Conversão (%)',\n",
    "                'Tempo Médio de Sessão (minutos)']\n",
    "for col in numeric_cols:\n",
    "    df[col] = pd.to_numeric(df[col], errors='coerce')\n"
   ]
  },
  {
   "cell_type": "markdown",
   "id": "af27fcef",
   "metadata": {},
   "source": [
    "## Visualizações Iniciais\n",
    "\n",
    "Vamos criar gráficos para entender melhor a distribuição dos dados e o comportamento das variáveis."
   ]
  },
  {
   "cell_type": "code",
   "execution_count": null,
   "id": "05c6d91d",
   "metadata": {},
   "outputs": [],
   "source": [
    "from enviar_prova.ChartGenerator import ChartGenerator\n",
    "# instantiate once for the main DataFrame\n",
    "cg = ChartGenerator(df)"
   ]
  },
  {
   "cell_type": "markdown",
   "metadata": {
    "id": "3KN7GhBo1hk0"
   },
   "source": [
    "## Questões"
   ]
  },
  {
   "cell_type": "markdown",
   "metadata": {
    "id": "0vydKbqQ17_d"
   },
   "source": [
    "### Questão 1"
   ]
  },
  {
   "cell_type": "markdown",
   "metadata": {
    "id": "zLhCUOz_1vyj"
   },
   "source": [
    "**Análise Exploratória de Dados**: Faça a exploração dos dados, utilizando gráficos interativos. Identifique correlações entre as variáveis e apresente essas relações em uma matriz de correlação focada nas variáveis mais relevantes para a conversão de vendas."
   ]
  },
  {
   "cell_type": "code",
   "execution_count": null,
   "id": "0d9988d2",
   "metadata": {},
   "outputs": [],
   "source": [
    "# Análise Exploratória de Dados (com instância cg)\n",
    "kpis = ['Visitantes Únicos', 'Sessões', 'Taxa de Rejeição (%)',\n",
    "    'Páginas por Sessão', 'Taxa de Conversão (%)', 'Tempo Médio de Sessão (minutos)']\n",
    "for m in kpis:\n",
    "    # para cada métrica, instanciar em um DF reduzido\n",
    "    cg_sub = ChartGenerator(df[[m, 'Data']].copy())\n",
    "    cg_sub.line_chart('Data', m, title=f'{m} ao longo do tempo')\n",
    "\n",
    "# 2. Distribuições\n",
    "for col in ['Sessões', 'Páginas por Sessão', 'Tempo Médio de Sessão (minutos)', 'Taxa de Rejeição (%)']:\n",
    "    cg.histogram(col, bins=20)\n",
    "\n",
    "# 3. Segmentação por dispositivo\n",
    "# Segmentação por dispositivo\n",
    "# Agrupa e conta a quantidade de registros por tipo de dispositivo\n",
    "device_counts = (\n",
    "    df['Dispositivos']\n",
    "    .value_counts()\n",
    "    .reset_index()\n",
    "    .rename(columns={'index': 'Dispositivo', 'Dispositivos': 'Dispositivos'})\n",
    ")\n",
    "cg_dev = ChartGenerator(device_counts)\n",
    "cg_dev.bar_chart('count', 'Dispositivos', xlabel='Dispositivos', ylabel='Contagem')\n",
    "\n",
    "# 4. Segmentação por origem de tráfego\n",
    "traffic_counts = (\n",
    "    df['Principais Origens do Tráfego']\n",
    "    .value_counts()\n",
    "    .reset_index()\n",
    "    .rename(columns={'index':'Origem','count':'Contagem'})\n",
    ")\n",
    "cg_trf = ChartGenerator(traffic_counts)\n",
    "cg_trf.bar_chart('Principais Origens do Tráfego', 'Contagem', xlabel='Origem', ylabel='Contagem')\n",
    "\n",
    "# 5. Boxplot de todas as métricas numéricas\n",
    "numeric_cols = ['Visitantes Únicos', 'Sessões', 'Taxa de Rejeição (%)',\n",
    "                'Páginas por Sessão', 'Taxa de Conversão (%)', 'Tempo Médio de Sessão (minutos)']\n",
    "cg.box_plot(numeric_cols, ylabel='Valores')"
   ]
  },
  {
   "cell_type": "markdown",
   "id": "0d7cf341",
   "metadata": {},
   "source": [
    "**Resumo Análise Exploratória de Dados:**  \n",
    "- Séries temporais mostram tendências e picos, indicando oportunidades de campanhas.  \n",
    "- Distribuições indicam alta variabilidade em sessões e tempo médio, sugerindo diferentes grupos de usuários.  \n",
    "- Segmentação revela prevalência de mobile, sugerindo foco em otimização para dispositivos móveis.  \n",
    "- Principais origens de tráfego (sociais e orgânico) são canais-chave para melhorias de UX.  \n",
    "- Outliers em bounce rate destacam páginas que precisam de atenção para reduzir rejeição."
   ]
  },
  {
   "cell_type": "markdown",
   "metadata": {
    "id": "RrBHNnB_2Bmm"
   },
   "source": [
    "### Questão 2"
   ]
  },
  {
   "cell_type": "code",
   "execution_count": null,
   "id": "5b1c56ec",
   "metadata": {},
   "outputs": [],
   "source": [
    "# Simulação de Monte Carlo para Taxa de Conversão\n",
    "import numpy as np\n",
    "import pandas as pd\n",
    "from scipy import stats\n",
    "\n",
    "# Histórico de conversão (%)\n",
    "historical = df['Taxa de Conversão (%)']\n",
    "mean = historical.mean()\n",
    "std = historical.std()\n",
    "\n",
    "# Simular 10000 cenários para os próximos 12 períodos\n",
    "simulations = np.random.normal(loc=mean, scale=std, size=(10000, 12))\n",
    "simulations = np.clip(simulations, 0, 100)\n",
    "\n",
    "# Taxa de conversão esperada por período\n",
    "expected = simulations.mean(axis=0)\n",
    "meses = list(range(1, 13))\n",
    "df_mc = pd.DataFrame({'Taxa de Conversão Prevista (%)': expected, 'Período': meses})\n",
    "\n",
    "# Visualizar resultados da simulação\n",
    "cg_mc = ChartGenerator(df_mc)\n",
    "cg_mc.line_chart('Período', 'Taxa de Conversão Prevista (%)', title='Taxa de Conversão Prevista')\n",
    "sim_df = pd.DataFrame({'Taxa de Conversão Simulada (%)': simulations.flatten()})\n",
    "cg_sim = ChartGenerator(sim_df)\n",
    "cg_sim.histogram('Taxa de Conversão Simulada (%)', bins=30)\n",
    "\n",
    "# Z-scores das taxas simuladas\n",
    "sim_flat = simulations.flatten()\n",
    "z_scores = stats.zscore(sim_flat)\n",
    "print('Z-scores (primeiros 10):', z_scores[:10])\n",
    "\n",
    "# Teste t de Student (one-sample)\n",
    "t_stat, t_p = stats.ttest_1samp(sim_flat, popmean=mean)\n",
    "print(f'T-test: estatístico t = {t_stat:.4f}, p-valor = {t_p:.4f}')\n",
    "\n",
    "# Teste Qui-Quadrado (goodness-of-fit vs normal)\n",
    "obs_freq, bins = np.histogram(sim_flat, bins=10)\n",
    "cdf_vals = stats.norm.cdf(bins, loc=mean, scale=std)\n",
    "exp_freq = np.diff(cdf_vals) * len(sim_flat)\n",
    "# Ajuste: garante que sum(exp_freq) == sum(obs_freq)\n",
    "exp_freq = exp_freq * (obs_freq.sum() / exp_freq.sum())\n",
    "chi2_stat, chi2_p = stats.chisquare(obs_freq, f_exp=exp_freq)\n",
    "print(f'Chi-squared: estatístico χ² = {chi2_stat:.4f}, p-valor = {chi2_p:.4f}')"
   ]
  },
  {
   "cell_type": "markdown",
   "id": "abe33352",
   "metadata": {},
   "source": [
    "**Resumo Simulação de Monte Carlo:**  \n",
    "- Simulação sugere taxa de conversão estável em torno da média histórica, com variação moderada nos novos períodos.  \n",
    "- Distribuição das taxas simuladas mostra cenários extremos que ajudam no planejamento de UX robusto."
   ]
  },
  {
   "cell_type": "markdown",
   "id": "205cc6ea",
   "metadata": {},
   "source": [
    "## Análise de Correlação\n",
    "\n",
    "Aqui observamos a correlação entre as variáveis numéricas usando um mapa de calor (heatmap)."
   ]
  },
  {
   "cell_type": "code",
   "execution_count": null,
   "metadata": {
    "id": "pdb_J-0O2i1a"
   },
   "outputs": [],
   "source": [
    "# Escreva sua resposta nesta seção (Você pode criar quantas células de texto e de código forem necessárias)"
   ]
  },
  {
   "cell_type": "code",
   "execution_count": null,
   "id": "b845651a",
   "metadata": {},
   "outputs": [],
   "source": [
    "# Análise de Sensibilidade entre Bounce Rate e Conversão\n",
    "import numpy as np\n",
    "\n",
    "# Relação histórica\n",
    "x = df['Taxa de Rejeição (%)']\n",
    "y = df['Taxa de Conversão (%)']\n",
    "slope, intercept = np.polyfit(x, y, 1)\n",
    "\n",
    "# Cenários de redução de bounce rate\n",
    "bounce_range = np.linspace(x.min(), x.max(), 50)\n",
    "predicted_conv = intercept + slope * bounce_range\n",
    "df_sens = pd.DataFrame({'Taxa de Rejeição (%)': bounce_range, 'Taxa de Conversão Prevista (%)': predicted_conv})\n",
    "\n",
    "# Plotar análise de sensibilidade\n",
    "cg_sens = ChartGenerator(df_sens)\n",
    "cg_sens.line_chart(\n",
    "     'Taxa de Rejeição (%)',\n",
    "     'Taxa de Conversão Prevista (%)',\n",
    "     title='Sensibilidade Bounce Rate vs Conversão'\n",
    " )"
   ]
  },
  {
   "cell_type": "markdown",
   "id": "2ce0006b",
   "metadata": {},
   "source": [
    "## Análises de Conversão por Dispositivo\n",
    "\n",
    "Neste passo, investigamos como diferentes dispositivos influenciam a taxa de conversão."
   ]
  },
  {
   "cell_type": "markdown",
   "id": "179cfae1",
   "metadata": {},
   "source": [
    "**Resumo Análise de Sensibilidade:**  \n",
    "- Reduções na Taxa de Rejeição tendem a aumentar a Taxa de Conversão, destacando a importância de melhorias de UX que diminuam o bounce rate.  \n",
    "- Gráfico de sensibilidade ajuda a priorizar ações de design com maior impacto na conversão."
   ]
  },
  {
   "cell_type": "markdown",
   "metadata": {
    "id": "SHpxU3Vs1kYY"
   },
   "source": [
    "**Análise de Sensibilidade**: Realize uma análise de sensibilidade para examinar como alterações em diferentes variáveis de entrada afetam as previsões da taxa de conversão."
   ]
  },
  {
   "cell_type": "code",
   "execution_count": null,
   "metadata": {
    "id": "9--wz6QK2kII"
   },
   "outputs": [],
   "source": [
    "# Escreva sua resposta nesta seção (Você pode criar quantas células de texto e de código forem necessárias)"
   ]
  },
  {
   "cell_type": "markdown",
   "metadata": {
    "id": "Wsm10r4z2pr_"
   },
   "source": [
    "## Entrega"
   ]
  },
  {
   "cell_type": "markdown",
   "id": "8728ab4c",
   "metadata": {},
   "source": [
    "## Conclusão Parcial\n",
    "\n",
    "Aqui sintetizamos observações relevantes feitas até o momento."
   ]
  },
  {
   "cell_type": "markdown",
   "metadata": {
    "id": "xVOV_CWxMBX_"
   },
   "source": [
    "Siga esses passos para entregar sua prova.\n",
    "\n",
    "1. Crie um repositório no GitHub para essa entrega.\n",
    "\n",
    "2. Submeta seu desenvolvimento neste repositório.\n",
    "\n",
    "3. Garanta que o repositório é publicamente acessível (eliminatório).\n",
    "\n",
    "4. No Google forms da prova, submeta a URL do repositório."
   ]
  },
  {
   "cell_type": "markdown",
   "id": "3ce8df57",
   "metadata": {},
   "source": [
    "## Análise de Cadeia de Markov\n",
    "\n",
    "Nesta seção, vamos utilizar a coluna **\"Principais Origens do Tráfego\"** para criar uma **matriz de transição de Markov**.  \n",
    "Isso nos permite entender a probabilidade de um visitante mudar de uma origem de tráfego para outra ao longo do tempo (por exemplo, de \"Direto\" para \"Orgânico\").\n",
    "\n",
    "Como nossos dados são agregados por dia, simularemos a sequência de origens ordenando pelo tempo (coluna \"Data\")."
   ]
  },
  {
   "cell_type": "code",
   "execution_count": null,
   "id": "1ad2bc61",
   "metadata": {},
   "outputs": [],
   "source": [
    "import pandas as pd\n",
    "import numpy as np\n",
    "import networkx as nx\n",
    "import matplotlib.pyplot as plt\n",
    "\n",
    "# Garantir ordenação por tempo\n",
    "df = df.sort_values(\"Data\")\n",
    "\n",
    "# Extrair sequência de estados\n",
    "origens = df[\"Principais Origens do Tráfego\"].dropna().tolist()\n",
    "\n",
    "# Criar pares consecutivos para transições\n",
    "transicoes = list(zip(origens[:-1], origens[1:]))\n",
    "\n",
    "# Criar dicionário de contagem de transições\n",
    "trans_counts = {}\n",
    "for (origem, destino) in transicoes:\n",
    "    if origem not in trans_counts:\n",
    "        trans_counts[origem] = {}\n",
    "    if destino not in trans_counts[origem]:\n",
    "        trans_counts[origem][destino] = 0\n",
    "    trans_counts[origem][destino] += 1\n",
    "\n",
    "# Criar matriz de transição normalizada\n",
    "estados = sorted(set(origens))\n",
    "matriz_transicao = pd.DataFrame(0, index=estados, columns=estados, dtype=float)\n",
    "\n",
    "for origem in trans_counts:\n",
    "    total = sum(trans_counts[origem].values())\n",
    "    for destino in trans_counts[origem]:\n",
    "        matriz_transicao.loc[origem, destino] = trans_counts[origem][destino] / total\n",
    "\n",
    "matriz_transicao"
   ]
  },
  {
   "cell_type": "markdown",
   "id": "d54a9900",
   "metadata": {},
   "source": [
    "## Visualização da Matriz de Transição com Grafo\n",
    "\n",
    "Abaixo, representamos a matriz de transição de Markov como um **grafo direcionado**.\n",
    "Cada nó representa uma origem de tráfego, e cada seta (aresta) representa a probabilidade de transição de uma origem para outra."
   ]
  },
  {
   "cell_type": "code",
   "execution_count": null,
   "id": "b3a7d6e1",
   "metadata": {},
   "outputs": [],
   "source": [
    "G = nx.DiGraph()\n",
    "\n",
    "# Adiciona nós e arestas com pesos (probabilidades)\n",
    "for origem in matriz_transicao.index:\n",
    "    for destino in matriz_transicao.columns:\n",
    "        peso = matriz_transicao.loc[origem, destino]\n",
    "        if peso > 0:\n",
    "            G.add_edge(origem, destino, weight=peso)\n",
    "\n",
    "plt.figure(figsize=(10, 7))\n",
    "pos = nx.spring_layout(G, seed=42)\n",
    "edges = G.edges(data=True)\n",
    "nx.draw(G, pos, with_labels=True, node_size=3000, node_color='lightblue', arrowsize=20)\n",
    "nx.draw_networkx_edge_labels(G, pos, edge_labels={(u, v): f\"{d['weight']:.2f}\" for u, v, d in edges})\n",
    "plt.title(\"Grafo de Transição de Markov entre Origens de Tráfego\")\n",
    "plt.show()"
   ]
  }
 ],
 "metadata": {
  "colab": {
   "collapsed_sections": [
    "hAI4WVs6E2vi",
    "f_y3dG-wFAy1"
   ],
   "provenance": []
  },
  "kernelspec": {
   "display_name": ".venv",
   "language": "python",
   "name": "python3"
  },
  "language_info": {
   "codemirror_mode": {
    "name": "ipython",
    "version": 3
   },
   "file_extension": ".py",
   "mimetype": "text/x-python",
   "name": "python",
   "nbconvert_exporter": "python",
   "pygments_lexer": "ipython3",
   "version": "3.13.1"
  }
 },
 "nbformat": 4,
 "nbformat_minor": 0
}
